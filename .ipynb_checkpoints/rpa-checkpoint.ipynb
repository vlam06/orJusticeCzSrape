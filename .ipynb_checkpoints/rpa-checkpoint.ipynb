{
 "cells": [
  {
   "cell_type": "markdown",
   "id": "387f8bef",
   "metadata": {},
   "source": [
    "## Zadání"
   ]
  },
  {
   "cell_type": "markdown",
   "id": "2a6fe9d9",
   "metadata": {},
   "source": [
    "#### Investiční společnost má zájem zařadit do portfolia nové firmy. K tomu potřebuje pravidelně stahovat aktuální informace o jejich financích. Vaším úkolem je získat tyto informace a uložit je do složky pro další zpracování.\n",
    "\n",
    "Byznys zadání \n",
    "- informace jsou k investičnímu rozhodování o nemovitostech potřeba\n",
    "- seznam společností, které chcete do sledování zahrnout\n",
    "- identifikujte možné zdroje informací a zhodnoťte jejich použitelnost \n",
    "- Vyberte si konkrétní zdroj pro získání informací (například or.justice.cz)\n",
    "- Popište informace, které z portálu použijete a jejich vztah k případu\n",
    "- Procesní postup (zadání pro robota) vyplňte do přiloženého PDD \n",
    "\n",
    "Venca říkal:\n",
    "- stahujeme finanční výkazy/účetní závěrky (1x za rok): ocr nice to have\n",
    "- více firem, aby to mělo cenu\n",
    "- or.justice.cz\n",
    "- plus report\n"
   ]
  },
  {
   "cell_type": "markdown",
   "id": "e61b3144",
   "metadata": {},
   "source": [
    "### odvětví – Zbrojírenství"
   ]
  },
  {
   "cell_type": "code",
   "execution_count": 4,
   "id": "ea19a5aa",
   "metadata": {},
   "outputs": [
    {
     "name": "stdout",
     "output_type": "stream",
     "text": [
      "Collecting selenium\n",
      "  Downloading selenium-4.1.3-py3-none-any.whl (968 kB)\n",
      "Requirement already satisfied: urllib3[secure,socks]~=1.26 in c:\\users\\eklim\\anaconda3\\lib\\site-packages (from selenium) (1.26.7)\n",
      "Collecting trio~=0.17\n",
      "  Downloading trio-0.20.0-py3-none-any.whl (359 kB)\n",
      "Collecting trio-websocket~=0.9\n",
      "  Downloading trio_websocket-0.9.2-py3-none-any.whl (16 kB)\n",
      "Requirement already satisfied: sniffio in c:\\users\\eklim\\anaconda3\\lib\\site-packages (from trio~=0.17->selenium) (1.2.0)\n",
      "Requirement already satisfied: attrs>=19.2.0 in c:\\users\\eklim\\anaconda3\\lib\\site-packages (from trio~=0.17->selenium) (21.2.0)\n",
      "Requirement already satisfied: cffi>=1.14 in c:\\users\\eklim\\anaconda3\\lib\\site-packages (from trio~=0.17->selenium) (1.14.6)\n",
      "Requirement already satisfied: idna in c:\\users\\eklim\\anaconda3\\lib\\site-packages (from trio~=0.17->selenium) (3.2)\n",
      "Requirement already satisfied: async-generator>=1.9 in c:\\users\\eklim\\anaconda3\\lib\\site-packages (from trio~=0.17->selenium) (1.10)\n",
      "Requirement already satisfied: sortedcontainers in c:\\users\\eklim\\anaconda3\\lib\\site-packages (from trio~=0.17->selenium) (2.4.0)\n",
      "Collecting outcome\n",
      "  Downloading outcome-1.1.0-py2.py3-none-any.whl (9.7 kB)\n",
      "Requirement already satisfied: pycparser in c:\\users\\eklim\\anaconda3\\lib\\site-packages (from cffi>=1.14->trio~=0.17->selenium) (2.20)\n",
      "Collecting wsproto>=0.14\n",
      "  Downloading wsproto-1.1.0-py3-none-any.whl (24 kB)\n",
      "Requirement already satisfied: pyOpenSSL>=0.14 in c:\\users\\eklim\\anaconda3\\lib\\site-packages (from urllib3[secure,socks]~=1.26->selenium) (21.0.0)\n",
      "Requirement already satisfied: cryptography>=1.3.4 in c:\\users\\eklim\\anaconda3\\lib\\site-packages (from urllib3[secure,socks]~=1.26->selenium) (3.4.8)\n",
      "Requirement already satisfied: certifi in c:\\users\\eklim\\anaconda3\\lib\\site-packages (from urllib3[secure,socks]~=1.26->selenium) (2021.10.8)\n",
      "Requirement already satisfied: PySocks!=1.5.7,<2.0,>=1.5.6 in c:\\users\\eklim\\anaconda3\\lib\\site-packages (from urllib3[secure,socks]~=1.26->selenium) (1.7.1)\n",
      "Requirement already satisfied: six>=1.5.2 in c:\\users\\eklim\\anaconda3\\lib\\site-packages (from pyOpenSSL>=0.14->urllib3[secure,socks]~=1.26->selenium) (1.16.0)\n",
      "Collecting h11<1,>=0.9.0\n",
      "  Downloading h11-0.13.0-py3-none-any.whl (58 kB)\n",
      "Installing collected packages: outcome, h11, wsproto, trio, trio-websocket, selenium\n",
      "Successfully installed h11-0.13.0 outcome-1.1.0 selenium-4.1.3 trio-0.20.0 trio-websocket-0.9.2 wsproto-1.1.0\n",
      "Note: you may need to restart the kernel to use updated packages.\n"
     ]
    }
   ],
   "source": [
    "#pip install selenium"
   ]
  },
  {
   "cell_type": "code",
   "execution_count": 24,
   "id": "2349a5d6",
   "metadata": {},
   "outputs": [],
   "source": [
    "from selenium import webdriver\n",
    "from selenium.webdriver.chrome.service import Service\n",
    "from webdriver_manager.chrome import ChromeDriverManager\n",
    "from selenium.webdriver.common.by import By\n",
    "\n",
    "s=Service(executable_path=r'C:/Users/eklim/Desktop/chromedriver/chromedriver.exe')\n",
    "driver = webdriver.Chrome(service=s)\n",
    "driver.maximize_window()\n",
    "justice = 'https://or.justice.cz/ias/ui/rejstrik'\n",
    "driver.get(justice)"
   ]
  },
  {
   "cell_type": "code",
   "execution_count": 25,
   "id": "e7f8260e",
   "metadata": {},
   "outputs": [],
   "source": [
    "#creating the companies dictionary\n",
    "companies = {\"Zbrojovka\": \"https://or.justice.cz/ias/ui/vypis-sl-firma?subjektId=174660\",\n",
    "            \"Tatra\": \"https://or.justice.cz/ias/ui/vypis-sl-firma?subjektId=274834\",\n",
    "            \"Škoda Transportation\": \"https://or.justice.cz/ias/ui/vypis-sl-firma?subjektId=214610\",\n",
    "            \"Aero\": \"https://or.justice.cz/ias/ui/vypis-sl-firma?subjektId=716078\",\n",
    "            \"LOM\": \"https://or.justice.cz/ias/ui/vypis-sl-firma?subjektId=864074\",\n",
    "            \"Sellier\": \"https://or.justice.cz/ias/ui/vypis-sl-firma?subjektId=375274\",\n",
    "            \"Excalibur\": \"https://or.justice.cz/ias/ui/vypis-sl-firma?subjektId=620801\",\n",
    "            \"Retia\": \"https://or.justice.cz/ias/ui/vypis-sl-firma?subjektId=712283\"}"
   ]
  },
  {
   "cell_type": "code",
   "execution_count": null,
   "id": "92155869",
   "metadata": {},
   "outputs": [],
   "source": [
    "#find the element\n",
    "element = driver.find_elements_by_xpath('//*[@id=\"frag-rejstrik-switchComp-wholebead\"]/div[2]/div[2]/div/table/tbody/tr[1]/td[2]/span[1]/span[1]')"
   ]
  }
 ],
 "metadata": {
  "kernelspec": {
   "display_name": "Python 3 (ipykernel)",
   "language": "python",
   "name": "python3"
  },
  "language_info": {
   "codemirror_mode": {
    "name": "ipython",
    "version": 3
   },
   "file_extension": ".py",
   "mimetype": "text/x-python",
   "name": "python",
   "nbconvert_exporter": "python",
   "pygments_lexer": "ipython3",
   "version": "3.9.7"
  }
 },
 "nbformat": 4,
 "nbformat_minor": 5
}
